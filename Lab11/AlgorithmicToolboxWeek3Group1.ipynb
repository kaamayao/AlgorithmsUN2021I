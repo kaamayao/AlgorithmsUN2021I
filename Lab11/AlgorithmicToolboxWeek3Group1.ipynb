{
  "nbformat": 4,
  "nbformat_minor": 0,
  "metadata": {
    "colab": {
      "name": "AlgorithmicToolboxWeek3Grupo1",
      "provenance": [],
      "collapsed_sections": [],
      "toc_visible": true
    },
    "kernelspec": {
      "name": "python3",
      "display_name": "Python 3"
    },
    "language_info": {
      "name": "python"
    }
  },
  "cells": [
    {
      "cell_type": "markdown",
      "metadata": {
        "id": "sG9b7AnyCfNK"
      },
      "source": [
        "#Laboratorio 11\n",
        "**Grupo 1:**\n",
        "\n",
        "Amaya Osorio, Kevin Arturo\n",
        "\n",
        "Anzola Tachak, Gabriel Andres\n",
        "\n",
        "Arias Parra, David Alexander\n"
      ]
    },
    {
      "cell_type": "markdown",
      "metadata": {
        "id": "X9tvfNcnDCx5"
      },
      "source": [
        "## 1. Money change"
      ]
    },
    {
      "cell_type": "code",
      "metadata": {
        "id": "hJdRn2aWDLEx"
      },
      "source": [
        "# Uses python3\n",
        "import sys\n",
        "\n",
        "def get_change(m):\n",
        "    TEN_COINS = int(m / 10);\n",
        "    m = m - (TEN_COINS*10)\n",
        "    FIVE_COINS = int(m / 5);\n",
        "    m = m - (FIVE_COINS*5)\n",
        "    ONE_COINS = m;\n",
        "    TOTAL_COINS = TEN_COINS + FIVE_COINS + ONE_COINS\n",
        "    return TOTAL_COINS\n",
        "\n",
        "if __name__ == '__main__':\n",
        "    m = int(sys.stdin.read())\n",
        "    print(get_change(m))\n"
      ],
      "execution_count": null,
      "outputs": []
    },
    {
      "cell_type": "markdown",
      "metadata": {
        "id": "vIiG9vo5DOVZ"
      },
      "source": [
        "## 2. Maximum value of the loot"
      ]
    },
    {
      "cell_type": "code",
      "metadata": {
        "id": "48z5l-X_DxxL"
      },
      "source": [
        "# Uses python3\n",
        "import sys\n",
        "import operator\n",
        "\n",
        "def get_values_per_kg(weigths, values):\n",
        "    values_per_kg = []\n",
        "    for i in range(0,len(weigths)):\n",
        "        values_per_kg.append({'value':values[i]/weights[i], 'index': i })\n",
        "    return sorted(values_per_kg, key=lambda k: k['value'],reverse=True)\n",
        "\n",
        "def get_optimal_value(capacity, weights, values):\n",
        "    value = 0\n",
        "    valuesPerKg = get_values_per_kg(weights, values)\n",
        "    for valueKg in valuesPerKg:\n",
        "        if(capacity >= weights[valueKg['index']]):\n",
        "            capacity = capacity - weights[valueKg['index']]\n",
        "            value = value + values[valueKg['index']]\n",
        "        elif(capacity < weights[valueKg['index']]):\n",
        "            value = value + (capacity * valueKg['value'])\n",
        "            capacity = 0\n",
        "        if(capacity <= 0):\n",
        "            break\n",
        "    return value\n",
        "\n",
        "\n",
        "if __name__ == \"__main__\":\n",
        "    data = list(map(int, sys.stdin.read().split()))\n",
        "    n, capacity = data[0:2]\n",
        "    values = data[2:(2 * n + 2):2]\n",
        "    weights = data[3:(2 * n + 2):2]\n",
        "    opt_value = get_optimal_value(capacity, weights, values)\n",
        "    print(\"{:.10f}\".format(opt_value))\n"
      ],
      "execution_count": null,
      "outputs": []
    },
    {
      "cell_type": "markdown",
      "metadata": {
        "id": "X4-gm-guDUBy"
      },
      "source": [
        "## 3. Car fueling"
      ]
    },
    {
      "cell_type": "code",
      "metadata": {
        "id": "01Jpmns2D0Zv"
      },
      "source": [
        "import sys\n",
        "\n",
        "def compute_min_refills(distance, tank, stops):\n",
        "    stops.insert(0,0)\n",
        "    stops.append(distance)\n",
        "    last_refill_stop = 0\n",
        "    current_tank = tank\n",
        "    refills = 0\n",
        "    i = 0\n",
        "    while i<(len(stops)-1):\n",
        "        current_stop = stops[i]\n",
        "        next_stop = stops[i+1]\n",
        "        distance_stops = next_stop - current_stop\n",
        "\n",
        "        if distance_stops > current_tank:\n",
        "            if last_refill_stop == current_stop:\n",
        "                return -1\n",
        "            refills = refills + 1\n",
        "            last_refill_stop = current_stop\n",
        "            current_tank = tank\n",
        "        else:\n",
        "            current_tank = current_tank - distance_stops\n",
        "            i = i+1\n",
        "    return refills\n",
        "\n",
        "if __name__ == '__main__':\n",
        "    d, m, _, *stops = map(int, sys.stdin.read().split())\n",
        "    print(compute_min_refills(d, m, stops))\n"
      ],
      "execution_count": null,
      "outputs": []
    },
    {
      "cell_type": "markdown",
      "metadata": {
        "id": "oQrKZmhvDWlG"
      },
      "source": [
        "## 4. Maximum advertisement revenue"
      ]
    },
    {
      "cell_type": "code",
      "metadata": {
        "id": "LHWWfYBpD55M"
      },
      "source": [
        "import sys\n",
        "\n",
        "def max_dot_product(a, b):\n",
        "    res = 0\n",
        "    a.sort()\n",
        "    b.sort(key = abs, reverse = True)\n",
        "    for x in b:\n",
        "        num = 0\n",
        "        if x >= 0:\n",
        "            num = a.pop()\n",
        "        if x < 0:\n",
        "            num = a.pop(0)\n",
        "        res += num*x\n",
        "\n",
        "    return res\n",
        "\n",
        "if __name__ == '__main__':\n",
        "    input = sys.stdin.read()\n",
        "    data = list(map(int, input.split()))\n",
        "    n = data[0]\n",
        "    a = data[1:(n + 1)]\n",
        "    b = data[(n + 1):]\n",
        "    print(max_dot_product(a, b))"
      ],
      "execution_count": null,
      "outputs": []
    },
    {
      "cell_type": "markdown",
      "metadata": {
        "id": "tWRNhUUFDcoh"
      },
      "source": [
        "## 5. Collecting signatures"
      ]
    },
    {
      "cell_type": "code",
      "metadata": {
        "id": "ZkNHQTWXD7bc"
      },
      "source": [
        "# Uses python3\n",
        "import sys\n",
        "from collections import namedtuple\n",
        "\n",
        "Segment = namedtuple('Segment', 'start end')\n",
        "\n",
        "def containsPoint(segment,point):\n",
        "    return segment.start <= point and segment.end >= point\n",
        "\n",
        "def getSegmentsContainPoint(segments,point):\n",
        "    return list(filter(lambda s: not containsPoint(s,point),segments))\n",
        "\n",
        "def optimal_points(segments):\n",
        "    points = []\n",
        "    maxPoints = 0\n",
        "    segments.sort(key=lambda x: x.end)\n",
        "    while len(segments)>0:\n",
        "        s = segments[0]\n",
        "        segments = getSegmentsContainPoint(segments,s.end)\n",
        "        points.append(s.end)\n",
        "    return points\n",
        "\n",
        "if __name__ == '__main__':\n",
        "    input = sys.stdin.read()\n",
        "    n, *data = map(int, input.split())\n",
        "    segments = list(map(lambda x: Segment(x[0], x[1]), zip(data[::2], data[1::2])))\n",
        "    points = optimal_points(segments)\n",
        "    print(len(points))\n",
        "    print(*points)"
      ],
      "execution_count": null,
      "outputs": []
    },
    {
      "cell_type": "markdown",
      "metadata": {
        "id": "Jf0yQRUbDgV0"
      },
      "source": [
        "## 6. Maximum number of prizes"
      ]
    },
    {
      "cell_type": "code",
      "metadata": {
        "id": "IV3vttIHECof"
      },
      "source": [
        "# Uses python3\n",
        "import sys\n",
        "\n",
        "def optimal_summands(n):\n",
        "    summands = []\n",
        "    max_n = n\n",
        "    min_n = 1\n",
        "\n",
        "    while max_n>0:\n",
        "        if max_n <= (2*min_n):\n",
        "            summands.append(max_n)\n",
        "            max_n = max_n-max_n\n",
        "        else:\n",
        "            summands.append(min_n)\n",
        "            max_n = max_n-min_n\n",
        "        min_n = min_n+1\n",
        "\n",
        "    return summands\n",
        "\n",
        "if __name__ == '__main__':\n",
        "    input = sys.stdin.read()\n",
        "    n = int(input)\n",
        "    summands = optimal_summands(n)\n",
        "    print(len(summands))\n",
        "    for x in summands:\n",
        "        print(x, end=' ')"
      ],
      "execution_count": null,
      "outputs": []
    },
    {
      "cell_type": "markdown",
      "metadata": {
        "id": "F9h-YKBjDmBY"
      },
      "source": [
        "## 7. Maximum salary"
      ]
    },
    {
      "cell_type": "code",
      "metadata": {
        "id": "gce-ln1nEG6M"
      },
      "source": [
        "import sys\n",
        "from functools import cmp_to_key\n",
        "\n",
        "def base_compare(x,y):\n",
        "    x_first_num = int(x+y)\n",
        "    y_first_num = int(y+x)\n",
        "    if x_first_num > y_first_num:\n",
        "        return -1\n",
        "    elif x_first_num < y_first_num:\n",
        "        return 1\n",
        "    else:\n",
        "        return 0\n",
        "\n",
        "def largest_number(a):\n",
        "    a.sort(key=cmp_to_key(base_compare))\n",
        "    return ''.join(a)\n",
        "\n",
        "if __name__ == '__main__':\n",
        "    input = sys.stdin.read()\n",
        "    data = input.split()\n",
        "    a = data[1:]\n",
        "    print(largest_number(a))"
      ],
      "execution_count": null,
      "outputs": []
    },
    {
      "cell_type": "markdown",
      "metadata": {
        "id": "DwxVmmZMEOYU"
      },
      "source": [
        "## Resultados de Coursera"
      ]
    },
    {
      "cell_type": "markdown",
      "metadata": {
        "id": "xPvpXOX2GWqU"
      },
      "source": [
        "<img src=\"https://i.imgur.com/Uv6Dwdt.png\"/>"
      ]
    }
  ]
}