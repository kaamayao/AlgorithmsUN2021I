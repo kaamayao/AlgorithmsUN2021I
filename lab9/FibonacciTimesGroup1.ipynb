{
  "nbformat": 4,
  "nbformat_minor": 2,
  "metadata": {
    "colab": {
      "name": "FibonacciTimesGroup1.ipynb",
      "provenance": [],
      "collapsed_sections": []
    },
    "kernelspec": {
      "name": "python3",
      "display_name": "Python 3.9.6 64-bit"
    },
    "language_info": {
      "name": "python",
      "version": "3.9.6",
      "mimetype": "text/x-python",
      "codemirror_mode": {
        "name": "ipython",
        "version": 3
      },
      "pygments_lexer": "ipython3",
      "nbconvert_exporter": "python",
      "file_extension": ".py"
    },
    "interpreter": {
      "hash": "aee8b7b246df8f9039afb4144a1f6fd8d2ca17a180786b69acc140d282b71a49"
    }
  },
  "cells": [
    {
      "cell_type": "markdown",
      "source": [
        "##**Fibonacci Times for three variants of the algorithm**##\n",
        "\n",
        "###**Fibonacci Recursive:**###\n",
        "\n",
        "####**Code:**####\n"
      ],
      "metadata": {
        "id": "p5U3hUQ0tCre"
      }
    },
    {
      "cell_type": "code",
      "execution_count": 1,
      "source": [
        "from time import process_time"
      ],
      "outputs": [],
      "metadata": {}
    },
    {
      "cell_type": "code",
      "execution_count": 2,
      "source": [
        "def fibR(n):\n",
        "    if n < 2:\n",
        "        return n\n",
        "    return fibR(n-1)+fibR(n-2)"
      ],
      "outputs": [],
      "metadata": {
        "id": "UWB7ApihqCo2"
      }
    },
    {
      "cell_type": "markdown",
      "source": [
        "####**Plot execution time $n=\\{0,50\\}$**####"
      ],
      "metadata": {
        "id": "qufq95tluKPI"
      }
    },
    {
      "cell_type": "code",
      "execution_count": 3,
      "source": [
        "import matplotlib.pyplot as plt\n",
        "n=50\n",
        "ExTimes = []\n",
        "print(\"00        10        20        30        40        50\")\n",
        "init_time = process_time()\n",
        "for j in range(0,n+1):\n",
        "  print(\"#\", end=\"\")\n",
        "  t0 = process_time() \n",
        "  k = fibR(j)\n",
        "  tf =process_time()\n",
        "  ExTimes.append(tf-t0)\n",
        "end_time = process_time()\n",
        "print(\"#\")\n",
        "print(\"Done at\",str(end_time-init_time),\"s\")\n"
      ],
      "outputs": [
        {
          "output_type": "stream",
          "name": "stdout",
          "text": [
            "00        10        20        30        40        50\n",
            "####################################################\n",
            "Done at 8696.452701 s\n"
          ]
        }
      ],
      "metadata": {
        "id": "sHew-LjwurIu"
      }
    },
    {
      "cell_type": "code",
      "execution_count": 4,
      "source": [
        "plt.plot(list(range(n+1)), ExTimes)\n",
        "plt.title(\"Execution time using FibR\")\n",
        "plt.ylabel(\"Time (s)\")\n",
        "plt.xlabel(\"Fib number\")"
      ],
      "outputs": [
        {
          "output_type": "execute_result",
          "data": {
            "text/plain": [
              "Text(0.5, 0, 'Fib number')"
            ]
          },
          "metadata": {},
          "execution_count": 4
        },
        {
          "output_type": "display_data",
          "data": {
            "text/plain": [
              "<Figure size 432x288 with 1 Axes>"
            ],
            "image/png": "[encoded data removed]"
          },
          "metadata": {
            "needs_background": "light"
          }
        }
      ],
      "metadata": {
        "id": "T1z_WcEw0zHV"
      }
    },
    {
      "cell_type": "markdown",
      "source": [
        "###**Fibonacci Iterative Linear:**###\n",
        "\n",
        "####**Code:**####"
      ],
      "metadata": {
        "id": "CtmSaZ-s4CsV"
      }
    },
    {
      "cell_type": "code",
      "execution_count": 5,
      "source": [
        "def fibI(n):\n",
        "    if n==0 :\n",
        "        return 0\n",
        "    a, b = 0, 1\n",
        "    for i in range(1, n):\n",
        "        a, b = b, a+b\n",
        "    return b"
      ],
      "outputs": [],
      "metadata": {
        "id": "jEDCkksr4di7"
      }
    },
    {
      "cell_type": "markdown",
      "source": [
        "####**Plot execution time $n=\\{0,1000\\}$**####"
      ],
      "metadata": {
        "id": "mHbyR1eA43h9"
      }
    },
    {
      "cell_type": "code",
      "execution_count": 6,
      "source": [
        "m=1000\n",
        "ExTimes2 = []\n",
        "for j in range(0,m+1):\n",
        "  t0 = process_time() \n",
        "  k = fibI(j)\n",
        "  tf =process_time()\n",
        "  ExTimes2.append(tf-t0) \n",
        "\n",
        "plt.plot(list(range(m+1)), ExTimes2)\n",
        "plt.title(\"Execution time using FibI\")\n",
        "plt.ylabel(\"Time (s)\")\n",
        "plt.xlabel(\"Fib number\")"
      ],
      "outputs": [
        {
          "output_type": "execute_result",
          "data": {
            "text/plain": [
              "Text(0.5, 0, 'Fib number')"
            ]
          },
          "metadata": {},
          "execution_count": 6
        },
        {
          "output_type": "display_data",
          "data": {
            "text/plain": [
              "<Figure size 432x288 with 1 Axes>"
            ],
            "image/png": "[encoded data removed]"
          },
          "metadata": {
            "needs_background": "light"
          }
        }
      ],
      "metadata": {
        "id": "uA-tcX6h4xuT"
      }
    },
    {
      "cell_type": "markdown",
      "source": [
        "###**Fibonacci Iterative Logarithmic:**###\n",
        "\n",
        "####**Code:**####"
      ],
      "metadata": {
        "id": "_Npv4Wrs9rct"
      }
    },
    {
      "cell_type": "code",
      "execution_count": 7,
      "source": [
        "def fibM(n):\n",
        "    memo = {}\n",
        "    def fib(n):\n",
        "        if n==0 :\n",
        "            return 0\n",
        "        if n==1 :\n",
        "            return 1\n",
        "        if (n-2) not in memo:\n",
        "            memo[n-2] = fib(n-2)\n",
        "        if (n-1) not in memo:\n",
        "            memo[n-1] = fib(n-1)\n",
        "        return memo[n-1] + memo[n-2]\n",
        "    return fib(n)"
      ],
      "outputs": [],
      "metadata": {
        "id": "xsAz4y4e9xJf"
      }
    },
    {
      "cell_type": "markdown",
      "source": [
        "####**Plot execution time $n=\\{0,1000\\}$**####"
      ],
      "metadata": {
        "id": "QnkJD6vm-QGQ"
      }
    },
    {
      "cell_type": "code",
      "execution_count": 8,
      "source": [
        "m=1000\n",
        "ExTimes3 = []\n",
        "for j in range(0,m+1):\n",
        "  t0 = process_time() \n",
        "  k = fibI(j)\n",
        "  tf =process_time()\n",
        "  ExTimes3.append(tf-t0) \n",
        "\n",
        "plt.plot(list(range(m+1)), ExTimes3)\n",
        "plt.title(\"Execution time using FibM\")\n",
        "plt.ylabel(\"Time (s)\")\n",
        "plt.xlabel(\"Fib number\")"
      ],
      "outputs": [
        {
          "output_type": "execute_result",
          "data": {
            "text/plain": [
              "Text(0.5, 0, 'Fib number')"
            ]
          },
          "metadata": {},
          "execution_count": 8
        },
        {
          "output_type": "display_data",
          "data": {
            "text/plain": [
              "<Figure size 432x288 with 1 Axes>"
            ],
            "image/png": "[encoded data removed]"
          },
          "metadata": {
            "needs_background": "light"
          }
        }
      ],
      "metadata": {
        "id": "aRUNYAr8-sXc"
      }
    },
    {
      "cell_type": "markdown",
      "source": [
        "###**Compare Fibonacci Iterative Logarithmic and Fibonacci Iterative Lineal:**###"
      ],
      "metadata": {
        "id": "jYVfCY95_ccD"
      }
    },
    {
      "cell_type": "code",
      "execution_count": 9,
      "source": [
        "plt.plot(list(range(m+1)), ExTimes2,label =\"FibI\",color='blue')\n",
        "plt.plot(list(range(m+1)), ExTimes3, label =\"FibM\",color='royalblue')\n",
        "plt.plot(n,n, label=\"y=n\",color='aqua')\n",
        "plt.title(\"Execution time using FibM and fibI\")\n",
        "plt.ylabel(\"Time (s)\")\n",
        "plt.xlabel(\"Fib number\")"
      ],
      "outputs": [
        {
          "output_type": "execute_result",
          "data": {
            "text/plain": [
              "Text(0.5, 0, 'Fib number')"
            ]
          },
          "metadata": {},
          "execution_count": 9
        },
        {
          "output_type": "display_data",
          "data": {
            "text/plain": [
              "<Figure size 432x288 with 1 Axes>"
            ],
            "image/png": "[encoded data removed]"
          },
          "metadata": {
            "needs_background": "light"
          }
        }
      ],
      "metadata": {
        "id": "Kb0K9P9O_vv9"
      }
    }
  ]
}