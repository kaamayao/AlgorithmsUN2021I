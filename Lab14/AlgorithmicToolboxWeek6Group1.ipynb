{
 "cells": [
  {
   "cell_type": "markdown",
   "source": [
    "# 6.1 Maximum amount of gold\n"
   ],
   "metadata": {}
  },
  {
   "cell_type": "code",
   "execution_count": null,
   "source": [
    "import sys\n",
    "\n",
    "def knapsack(W, w):\n",
    "    w = [0] + w\n",
    "    n = len(w)\n",
    "    m = W + 1\n",
    "    matrix = [[0 for col in range(n)] for row in range(m)]\n",
    "    for i in range(1, n):\n",
    "        for j in range(1, m):\n",
    "            matrix[j][i] = matrix[j][i - 1]\n",
    "\n",
    "            if w[i] <= j:\n",
    "                temp = matrix[j - w[i]][i - 1] + w[i]\n",
    "                if matrix[j][i] < temp:\n",
    "                    matrix[j][i] = temp\n",
    "\n",
    "    return matrix[m - 1][n - 1]\n",
    "\n",
    "\n",
    "if __name__ == \"__main__\":\n",
    "    input = sys.stdin.read()\n",
    "    W, n, *w = list(map(int, input.split()))\n",
    "    print(knapsack(W, w))\n",
    "\n"
   ],
   "outputs": [],
   "metadata": {}
  },
  {
   "cell_type": "markdown",
   "source": [
    "# 6.3 Maximum Value of an Arithmetic Expression\n"
   ],
   "metadata": {}
  },
  {
   "cell_type": "code",
   "execution_count": null,
   "source": [
    "import math\n",
    "\n",
    "def arithmetic(val1, val2, op):\n",
    "    if op == '+':\n",
    "        return val1 + val2\n",
    "    elif op == '-':\n",
    "        return val1 - val2\n",
    "    elif op == '*':\n",
    "        return val1 * val2\n",
    "    return 0\n",
    "\n",
    "def minmax(M, m, i, j, signs):\n",
    "    minimum = math.inf\n",
    "    maximum = -math.inf\n",
    "    for k in range(i, j):\n",
    "        a = arithmetic(M[i][k], M[k+1][j], signs[k])\n",
    "        b = arithmetic(M[i][k], m[k+1][j], signs[k])\n",
    "        c = arithmetic(m[i][k], M[k+1][j], signs[k])\n",
    "        d = arithmetic(m[i][k], m[k+1][j], signs[k])\n",
    "        minimum = min(minimum, a, b, c, d)\n",
    "        maximum = max(maximum, a, b, c, d)\n",
    "    return minimum, maximum\n",
    "\n",
    "def maxval(nums, signs):\n",
    "    n = len(nums)\n",
    "    m = [[None for _ in range(n)] for _ in range(n)]\n",
    "    M = [[None for _ in range(n)] for _ in range(n)]\n",
    "\n",
    "    for i in range(n):\n",
    "        m[i][i] = nums[i]\n",
    "        M[i][i] = nums[i]\n",
    "\n",
    "    \n",
    "    for s in range(1, n):\n",
    "        for i in range(0, n-s):\n",
    "            j = i + s\n",
    "            m[i][j], M[i][j] = minmax(M, m, i, j, signs)\n",
    "\n",
    "    return M[0][n-1]\n",
    "\n",
    "line = input()\n",
    "signs = []\n",
    "nums = []\n",
    "\n",
    "for i in line:\n",
    "    if i in ['+', '-', '*']:\n",
    "        signs.append(i)\n",
    "    else:\n",
    "        nums.append(int(i))\n",
    "\n",
    "print(maxval(nums, signs))"
   ],
   "outputs": [],
   "metadata": {}
  },
  {
   "cell_type": "markdown",
   "source": [
    "# Screenshot Coursera\n",
    "\n",
    "![Coursera](Coursera.png)\n"
   ],
   "metadata": {}
  }
 ],
 "metadata": {
  "orig_nbformat": 4,
  "language_info": {
   "name": "python"
  }
 },
 "nbformat": 4,
 "nbformat_minor": 2
}