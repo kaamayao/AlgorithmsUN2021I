{
  "nbformat": 4,
  "nbformat_minor": 0,
  "metadata": {
    "colab": {
      "name": "Untitled4.ipynb",
      "provenance": []
    },
    "kernelspec": {
      "name": "python3",
      "display_name": "Python 3"
    },
    "language_info": {
      "name": "python"
    }
  },
  "cells": [
    {
      "cell_type": "markdown",
      "metadata": {
        "id": "avJcL3kEszKX"
      },
      "source": [
        "# Certificates"
      ]
    },
    {
      "cell_type": "markdown",
      "metadata": {
        "id": "P4uqGRR8tHIS"
      },
      "source": [
        "**Certificate: **"
      ]
    },
    {
      "cell_type": "markdown",
      "metadata": {
        "id": "hyLUYLG4tNO4"
      },
      "source": [
        "![image](https://i.imgur.com/kseHc7P.png)"
      ]
    },
    {
      "cell_type": "markdown",
      "metadata": {
        "id": "hNH16sxitCsN"
      },
      "source": [
        "**Linked In:**"
      ]
    },
    {
      "cell_type": "markdown",
      "metadata": {
        "id": "095xZL8IsvLV"
      },
      "source": [
        "![image](https://i.imgur.com/hOcIBiJ.png)"
      ]
    }
  ]
}