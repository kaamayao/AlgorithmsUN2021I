{
  "nbformat": 4,
  "nbformat_minor": 0,
  "metadata": {
    "colab": {
      "name": "AlgorithmicToolboxWeek4GroupN",
      "provenance": [],
      "collapsed_sections": [],
      "toc_visible": true
    },
    "kernelspec": {
      "name": "python3",
      "display_name": "Python 3"
    },
    "language_info": {
      "name": "python"
    }
  },
  "cells": [
    {
      "cell_type": "markdown",
      "metadata": {
        "id": "sG9b7AnyCfNK"
      },
      "source": [
        "#Laboratorio 12\n",
        "**Grupo 1:**\n",
        "\n",
        "Amaya Osorio, Kevin Arturo\n",
        "\n",
        "Anzola Tachak, Gabriel Andres\n",
        "\n",
        "Arias Parra, David Alexander\n"
      ]
    },
    {
      "cell_type": "markdown",
      "metadata": {
        "id": "X9tvfNcnDCx5"
      },
      "source": [
        "## 1. Binary Search"
      ]
    },
    {
      "cell_type": "code",
      "metadata": {
        "id": "hJdRn2aWDLEx"
      },
      "source": [
        "# Uses python3\n",
        "import sys\n",
        "import math\n",
        "\n",
        "def binary_search(a, x):\n",
        "    left, right = 0,len(a)\n",
        "    while left <= right:\n",
        "        m = math.floor((left + right) / 2)\n",
        "        if m >= len(a) or m<0:\n",
        "            break;\n",
        "        if a[m] < x:\n",
        "            left = m + 1\n",
        "        elif a[m] > x:\n",
        "            right = m - 1\n",
        "        else:\n",
        "            return m\n",
        "    return -1\n",
        "\n",
        "def linear_search(a, x):\n",
        "    for i in range(len(a)):\n",
        "        if a[i] == x:\n",
        "            return i\n",
        "    return -1\n",
        "\n",
        "if __name__ == '__main__':\n",
        "    input = sys.stdin.read()\n",
        "    data = list(map(int, input.split()))\n",
        "    n = data[0]\n",
        "    m = data[n + 1]\n",
        "    a = data[1 : n + 1]\n",
        "    for x in data[n + 2:]:\n",
        "        # replace with the call to binary_search when implemented\n",
        "        print(binary_search(a, x), end = ' ')\n"
      ],
      "execution_count": null,
      "outputs": []
    },
    {
      "cell_type": "markdown",
      "metadata": {
        "id": "vIiG9vo5DOVZ"
      },
      "source": [
        "## 2. Majority elements"
      ]
    },
    {
      "cell_type": "code",
      "metadata": {
        "id": "48z5l-X_DxxL"
      },
      "source": [
        "import sys\n",
        "\n",
        "def get_majority_element(a, left, right):\n",
        "    if len(a) == 1:\n",
        "        return a[0]\n",
        "    elif len(a) == 0:\n",
        "        return None\n",
        "    half = len(a) // 2\n",
        "    left = get_majority_element(a[0:half],left,right)\n",
        "    right = get_majority_element(a[half:],left,right)\n",
        "    if left == right:\n",
        "        return left\n",
        "    if a.count(right) > half:\n",
        "        return right\n",
        "    if a.count(left) > half:\n",
        "        return left\n",
        "    return -1\n",
        "\n",
        "if __name__ == '__main__':\n",
        "    input = sys.stdin.read()\n",
        "    n, *a = list(map(int, input.split()))\n",
        "    if get_majority_element(a, 0, n) != -1:\n",
        "        print(1)\n",
        "    else:\n",
        "        print(0)\n"
      ],
      "execution_count": null,
      "outputs": []
    },
    {
      "cell_type": "markdown",
      "metadata": {
        "id": "X4-gm-guDUBy"
      },
      "source": [
        "## 3. Improving quicksort"
      ]
    },
    {
      "cell_type": "code",
      "metadata": {
        "id": "01Jpmns2D0Zv"
      },
      "source": [
        "# Uses python3\n",
        "import sys\n",
        "import random\n",
        "\n",
        "def partition3(a, l, r):\n",
        "    p = a[r]\n",
        "    i = l\n",
        "    while i <= r:\n",
        "        if a[i] > p:\n",
        "            a[i], a[r] = a[r], a[i]\n",
        "            r -= 1\n",
        "        else:\n",
        "            if a[i] < p:\n",
        "                a[i], a[l] = a[l], a[i]\n",
        "                l += 1\n",
        "            i+=1\n",
        "\n",
        "    return l, r\n",
        "\n",
        "def partition2(a, l, r):\n",
        "    x = a[l]\n",
        "    j = l\n",
        "    for i in range(l + 1, r + 1):\n",
        "        if a[i] <= x:\n",
        "            j += 1\n",
        "            a[i], a[j] = a[j], a[i]\n",
        "    a[l], a[j] = a[j], a[l]\n",
        "    return j\n",
        "\n",
        "\n",
        "def randomized_quick_sort(a, l, r):\n",
        "    if l >= r:\n",
        "        return\n",
        "    k = random.randint(l, r)\n",
        "    a[l], a[k] = a[k], a[l]\n",
        "    #use partition3\n",
        "    m1,m2 = partition3(a, l, r)\n",
        "    randomized_quick_sort(a, l, m1 - 1);\n",
        "    randomized_quick_sort(a, m2 + 1, r);\n",
        "\n",
        "\n",
        "if __name__ == '__main__':\n",
        "    input = sys.stdin.read()\n",
        "    n, *a = list(map(int, input.split()))\n",
        "    randomized_quick_sort(a, 0, n - 1)\n",
        "    for x in a:\n",
        "        print(x, end=' ')"
      ],
      "execution_count": null,
      "outputs": []
    },
    {
      "cell_type": "markdown",
      "metadata": {
        "id": "oQrKZmhvDWlG"
      },
      "source": [
        "## 4. Number of inversions"
      ]
    },
    {
      "cell_type": "code",
      "metadata": {
        "id": "LHWWfYBpD55M"
      },
      "source": [
        "import sys\n",
        "\n",
        "def merge(left,right):\n",
        "    count,i,j,res = 0,0,0,[]\n",
        "    while i < len(left) and j < len(right):\n",
        "        if left[i] > right[j]:\n",
        "            res.append(right[j])\n",
        "            j += 1\n",
        "            count += (len(left)-i)\n",
        "        else:\n",
        "            res.append(left[i])\n",
        "            i += 1\n",
        "    return res + left[i:] + right[j:],count\n",
        "\n",
        "def get_number_of_inversions(a, b, left, right):\n",
        "    length_array = len(a)\n",
        "    if length_array <=1:\n",
        "        return a,0\n",
        "    ave = length_array // 2\n",
        "    left_arr, number_of_inversions_left = get_number_of_inversions(a[:ave], b, left, ave)\n",
        "    right_arr, number_of_inversions_right = get_number_of_inversions(a[ave:], b, ave, right)\n",
        "    merged, count = merge(left_arr,right_arr)\n",
        "    count += (number_of_inversions_left + number_of_inversions_right)\n",
        "    return merged, count\n",
        "\n",
        "if __name__ == '__main__':\n",
        "    input = sys.stdin.read()\n",
        "    n, *a = list(map(int, input.split()))\n",
        "    b = n * [0]\n",
        "    print(get_number_of_inversions(a, b, 0, len(a))[1])\n"
      ],
      "execution_count": null,
      "outputs": []
    },
    {
      "cell_type": "markdown",
      "metadata": {
        "id": "tWRNhUUFDcoh"
      },
      "source": [
        "## 5. Organizing a lotery"
      ]
    },
    {
      "cell_type": "code",
      "metadata": {
        "id": "ZkNHQTWXD7bc"
      },
      "source": [
        "# Uses python3\n",
        "import sys\n",
        "from functools import cmp_to_key\n",
        "\n",
        "def segment_cmp(a, b):\n",
        "    if a['point']> b['point']:\n",
        "        return 1\n",
        "    elif a['point']< b['point']:\n",
        "        return -1\n",
        "    else:\n",
        "        return 0\n",
        "\n",
        "def countBefore(segments, point):\n",
        "    count = 0\n",
        "\n",
        "def fast_count_segments(starts, ends, points):\n",
        "    starts.sort()\n",
        "    ends.sort()\n",
        "    res = []\n",
        "    for point in points:\n",
        "        count = 0\n",
        "        countS = True\n",
        "        countE = True\n",
        "        i=0\n",
        "        while (countS or countE) and i<len(starts):\n",
        "            countS = countS and (starts[i] < point)\n",
        "            countE = countE and (ends[i] < point)\n",
        "            if countS:\n",
        "                count +=1\n",
        "            if countE:\n",
        "                count -=1\n",
        "            i +=1\n",
        "        res.append(count)\n",
        "    return res\n",
        "\n",
        "def naive_count_segments(starts, ends, points):\n",
        "    cnt = [0] * len(points)\n",
        "    for i in range(len(points)):\n",
        "        for j in range(len(starts)):\n",
        "            if starts[j] <= points[i] <= ends[j]:\n",
        "                cnt[i] += 1\n",
        "    return cnt\n",
        "\n",
        "if __name__ == '__main__':\n",
        "    input = sys.stdin.read()\n",
        "    data = list(map(int, input.split()))\n",
        "    n = data[0]\n",
        "    m = data[1]\n",
        "    starts = data[2:2 * n + 2:2]\n",
        "    ends   = data[3:2 * n + 2:2]\n",
        "    points = data[2 * n + 2:]\n",
        "    #use fast_count_segments\n",
        "    cnt = fast_count_segments(starts, ends, points)\n",
        "    for x in cnt:\n",
        "        print(x, end=' ')\n"
      ],
      "execution_count": null,
      "outputs": []
    },
    {
      "cell_type": "markdown",
      "metadata": {
        "id": "DwxVmmZMEOYU"
      },
      "source": [
        "## Resultados de Coursera"
      ]
    },
    {
      "cell_type": "markdown",
      "metadata": {
        "id": "c6bWJkyax8GV"
      },
      "source": [
        "<img src=\"https://i.imgur.com/nTr6RdI.png\"/>"
      ]
    },
    {
      "cell_type": "markdown",
      "metadata": {
        "id": "xPvpXOX2GWqU"
      },
      "source": [
        "<img src=\"blob:https://imgur.com/ccb2acc4-842a-6645-be1b-7df3045f7eb8\"/>"
      ]
    }
  ]
}