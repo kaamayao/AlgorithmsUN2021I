{
  "nbformat": 4,
  "nbformat_minor": 0,
  "metadata": {
    "colab": {
      "name": "AlgorithmicToolboxWeek5GroupN",
      "provenance": [],
      "collapsed_sections": [],
      "toc_visible": true
    },
    "kernelspec": {
      "name": "python3",
      "display_name": "Python 3"
    },
    "language_info": {
      "name": "python"
    }
  },
  "cells": [
    {
      "cell_type": "markdown",
      "metadata": {
        "id": "sG9b7AnyCfNK"
      },
      "source": [
        "#Laboratorio 13\n",
        "**Grupo 1:**\n",
        "\n",
        "Amaya Osorio, Kevin Arturo\n",
        "\n",
        "Anzola Tachak, Gabriel Andres\n",
        "\n",
        "Arias Parra, David Alexander\n"
      ]
    },
    {
      "cell_type": "markdown",
      "metadata": {
        "id": "X9tvfNcnDCx5"
      },
      "source": [
        "## 1. Money Change Again"
      ]
    },
    {
      "cell_type": "code",
      "metadata": {
        "id": "hJdRn2aWDLEx"
      },
      "source": [
        "# Uses python3\n",
        "import sys\n",
        "import math\n",
        "\n",
        "COINS = [1,3,4]\n",
        "\n",
        "def get_change(money):\n",
        "    minimum_num_coins = [0] \n",
        "    minimum_num_coins += [math.inf]*money\n",
        "    for m in range(1,money+ 1):\n",
        "        for coin in COINS:\n",
        "            if m >= coin:\n",
        "                coins = minimum_num_coins[m-coin]+1\n",
        "                if coins < minimum_num_coins[m]:\n",
        "                    minimum_num_coins[m] = coins\n",
        "    return minimum_num_coins[m]\n",
        "\n",
        "if __name__ == '__main__':\n",
        "    m = int(sys.stdin.read())\n",
        "    print(get_change(m))"
      ],
      "execution_count": null,
      "outputs": []
    },
    {
      "cell_type": "markdown",
      "metadata": {
        "id": "vIiG9vo5DOVZ"
      },
      "source": [
        "## 2. Primitive Calculator"
      ]
    },
    {
      "cell_type": "code",
      "metadata": {
        "id": "48z5l-X_DxxL"
      },
      "source": [
        "# Uses python3\n",
        "import sys\n",
        "\n",
        "d = {}\n",
        "\n",
        "def fillCache(cache):\n",
        "    for i in range(1, len(cache)):\n",
        "        min_operation = cache[i-1] + 1 \n",
        "        if i % 3 == 0:\n",
        "            min_operation = min(cache[i // 3]  + 1, min_operation)\n",
        "        elif i % 2 == 0:\n",
        "            min_operation = min(cache[i // 2]  + 1, min_operation)\n",
        "        cache[i] = min_operation\n",
        "\n",
        "def optimal_operation(n):\n",
        "    cache = [0] * (n + 1)\n",
        "    fillCache(cache)\n",
        "    last_cache_value = cache[-1] \n",
        "    result = [1] * last_cache_value  \n",
        "    for i in reversed(range(1, last_cache_value)):\n",
        "        result[i] = n\n",
        "        if cache[n] == cache[n-1]+1:\n",
        "            n -= 1\n",
        "        elif (cache[n] == cache[n // 2]+1) and n % 2 == 0:\n",
        "            n //= 2\n",
        "        else: \n",
        "            n //= 3\n",
        "    return result\n",
        "\n",
        "input = sys.stdin.read()\n",
        "n = int(input)\n",
        "sequence = list(optimal_operation(n))\n",
        "print(len(sequence) - 1)\n",
        "for x in sequence:\n",
        "    print(x, end=' ')\n"
      ],
      "execution_count": null,
      "outputs": []
    },
    {
      "cell_type": "markdown",
      "metadata": {
        "id": "X4-gm-guDUBy"
      },
      "source": [
        "## 3. Edit Distance"
      ]
    },
    {
      "cell_type": "code",
      "metadata": {
        "id": "01Jpmns2D0Zv"
      },
      "source": [
        "def edit_distance(seq1, seq2):\n",
        "    d={}\n",
        "    for i in range(len(seq1)+1):\n",
        "        d[i]={}\n",
        "        d[i][0]=i\n",
        "    for i in range(len(seq2)+1):\n",
        "        d[0][i] = i\n",
        "    for i in range(1, len(seq1)+1):\n",
        "        for j in range(1, len(seq2)+1):\n",
        "            deletion = d[i][j-1]+1\n",
        "            insertion = d[i-1][j]+1\n",
        "            cost = not seq1[i-1] == seq2[j-1]\n",
        "            substitution = d[i-1][j-1] + cost\n",
        "            d[i][j] = min(deletion,insertion,substitution)\n",
        "    return d[len(seq1)][len(seq2)] \n",
        "\n",
        "if __name__ == \"__main__\":\n",
        "    print(edit_distance(input(), input()))\n"
      ],
      "execution_count": null,
      "outputs": []
    },
    {
      "cell_type": "markdown",
      "metadata": {
        "id": "oQrKZmhvDWlG"
      },
      "source": [
        "## 4. longest_common_subsequence_of_two_sequences"
      ]
    },
    {
      "cell_type": "code",
      "metadata": {
        "id": "LHWWfYBpD55M"
      },
      "source": [
        "import sys\n",
        "\n",
        "def fill_matrix(M, row_len, col_len):\n",
        "    for i in range(0,row_len+1):\n",
        "        for j in range(0,col_len+1):\n",
        "            M[i][j] = max(M[i-1][j] , M[i][j-1])\n",
        "            if i == 0 or j == 0 :\n",
        "                M[i][j] = 0\n",
        "            elif a[i-1] == b[j-1]:\n",
        "                M[i][j] = M[i-1][j-1]+1\n",
        "    return M \n",
        "\n",
        "def initialize_matrix(rows, cols):\n",
        "    M = [[]] * cols\n",
        "    for i in range(len(M)):\n",
        "        M[i] = [0] * rows \n",
        "    return M \n",
        "\n",
        "def lcs2(a, b):\n",
        "    len_a, len_b = len(a), len(b)\n",
        "    M = initialize_matrix(len_b+1, len_a+1)\n",
        "    M = fill_matrix(M,len_a,len_b)\n",
        "    return M[-1][-1]\n",
        "\n",
        "if __name__ == '__main__':\n",
        "    input = sys.stdin.read()\n",
        "    data = list(map(int, input.split()))\n",
        "\n",
        "    n = data[0]\n",
        "    data = data[1:]\n",
        "    a = data[:n]\n",
        "\n",
        "    data = data[n:]\n",
        "    m = data[0]\n",
        "    data = data[1:]\n",
        "    b = data[:m]\n",
        "\n",
        "    print(lcs2(a, b))"
      ],
      "execution_count": null,
      "outputs": []
    },
    {
      "cell_type": "markdown",
      "metadata": {
        "id": "tWRNhUUFDcoh"
      },
      "source": [
        "## 5. Longest common subsequence"
      ]
    },
    {
      "cell_type": "code",
      "metadata": {
        "id": "ZkNHQTWXD7bc"
      },
      "source": [
        "#Uses python3\n",
        "import sys\n",
        "\n",
        "def fill_matrix(M,len_a,len_b,len_c,a,b,c):\n",
        "    for i in range(len_a):\n",
        "            for j in range(len_b):\n",
        "                for k in range(len_c):\n",
        "                    M[i][j][k] = max(max(M[i-1][j][k], M[i][j-1][k]), M[i][j][k-1])\n",
        "                    if (i == 0 or j == 0 or k == 0):\n",
        "                        M[i][j][k] = 0\n",
        "                    elif (a[i-1] == b[j-1] and a[i-1] == c[k-1]):\n",
        "                        M[i][j][k] = M[i-1][j-1][k-1] + 1\n",
        "    return M \n",
        "\n",
        "def start_matrix(x,y,z):\n",
        "    M = []\n",
        "    for i in range(x):\n",
        "        M.append([])\n",
        "        for j in range(y):\n",
        "            M[i].append([])\n",
        "            for k in range(z):\n",
        "                M[i][j].append(0)\n",
        "    return M\n",
        "\n",
        "def lcs3(a,b,c):\n",
        "    len_a = len(a)\n",
        "    len_b = len(b)\n",
        "    len_c = len(c)\n",
        "    M = start_matrix(len_a,len_b,len_c)\n",
        "    M = fill_matrix(M,len_a,len_b,len_c,a,b,c)\n",
        "    return M[-1][-1][-1]\n",
        "\n",
        "if __name__ == '__main__':\n",
        "    input = sys.stdin.read()\n",
        "    data = list(map(int, input.split()))\n",
        "    an = data[0]\n",
        "    data = data[1:]\n",
        "    a = data[:an]\n",
        "    data = data[an:]\n",
        "    bn = data[0]\n",
        "    data = data[1:]\n",
        "    b = data[:bn]\n",
        "    data = data[bn:]\n",
        "    cn = data[0]\n",
        "    data = data[1:]\n",
        "    c = data[:cn]\n",
        "    print(lcs3(a, b, c))\n"
      ],
      "execution_count": null,
      "outputs": []
    },
    {
      "cell_type": "markdown",
      "metadata": {
        "id": "DwxVmmZMEOYU"
      },
      "source": [
        "## Resultados de Coursera"
      ]
    },
    {
      "cell_type": "markdown",
      "metadata": {
        "id": "c6bWJkyax8GV"
      },
      "source": [
        "<img src=\"https://i.imgur.com/WbXYCoW.png\"/>"
      ]
    },
    {
      "cell_type": "markdown",
      "metadata": {
        "id": "xPvpXOX2GWqU"
      },
      "source": [
        "<img src=\"blob:https://imgur.com/ccb2acc4-842a-6645-be1b-7df3045f7eb8\"/>"
      ]
    }
  ]
}